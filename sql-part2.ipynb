{
    "metadata": {
        "kernelspec": {
            "name": "SQL",
            "display_name": "SQL",
            "language": "sql"
        },
        "language_info": {
            "name": "sql",
            "version": ""
        }
    },
    "nbformat_minor": 2,
    "nbformat": 4,
    "cells": [
        {
            "cell_type": "markdown",
            "source": [
                "# Exercises\n",
                "\n",
                "To get started with the exercises, go ahead and take a look at RideShareDB. This database was created with data from a dataset on [Kaggle](https://www.kaggle.com/fivethirtyeight/uber-pickups-in-new-york-city). The dataset was made using data obtained from the NYC Taxi and Limosine Commission or TLC. TLC tracks this data by base and even rideshare companies such as Uber and Lyft have assigned bases that each pickup must be attributed to. For the exercises, we will be using the `other-FHV-services-jan-july15` and `lyft` tables in RideShareDB. These tables include the data for each pickup attributed to a few other For-Hire Vehicles (FHV) services and Lyft. These tables do not include any data from Uber.\n",
                "\n",
                "## String Functions\n",
                "\n",
                "Write a query that returns the last 3 characters of the base name in `other-FHV-services-jan-july15`. Do you see anything that is a common abbreviation at the end of business names?\n",
                "\n",
                "<mark>**I do not have that table, so I used this table \\>\\>**</mark> <span style=\"color: rgb(33, 33, 33); font-family: Consolas, &quot;Courier New&quot;, monospace; font-size: 12px; white-space: pre;\">other_FHV_services_jan_aug_2015 &lt;&lt; <span style=\"background-color: yellow;\"><b>The common abbreviation I see are INC. mostly.</b></span></span>"
            ],
            "metadata": {
                "azdata_cell_guid": "2b5a5976-8b51-4e24-a08d-234ef97f379a"
            },
            "attachments": {}
        },
        {
            "cell_type": "code",
            "source": [
                "SELECT top 10 *\r\n",
                "FROM RideShareDB.dbo.other_FHV_services_jan_aug_2015;"
            ],
            "metadata": {
                "azdata_cell_guid": "392f7b72-9acf-44a4-bb53-6c29090c5d75",
                "tags": [
                    "hide_input"
                ],
                "language": "sql"
            },
            "outputs": [
                {
                    "output_type": "display_data",
                    "data": {
                        "text/html": "(10 rows affected)"
                    },
                    "metadata": {}
                },
                {
                    "output_type": "display_data",
                    "data": {
                        "text/html": "Total execution time: 00:00:00.065"
                    },
                    "metadata": {}
                },
                {
                    "output_type": "execute_result",
                    "metadata": {},
                    "execution_count": 25,
                    "data": {
                        "application/vnd.dataresource+json": {
                            "schema": {
                                "fields": [
                                    {
                                        "name": "Base_Number"
                                    },
                                    {
                                        "name": "Base_Name"
                                    },
                                    {
                                        "name": "Pick_Up_Date"
                                    },
                                    {
                                        "name": "Number_of_Trips"
                                    },
                                    {
                                        "name": "Number_of_Vehicles"
                                    }
                                ]
                            },
                            "data": [
                                {
                                    "0": "B00013",
                                    "1": "LOVE CORP CAR INC",
                                    "2": "2015-01-01",
                                    "3": "26 ",
                                    "4": "17 "
                                },
                                {
                                    "0": "B00014",
                                    "1": "NY ONE CORP CAR INC",
                                    "2": "2015-01-01",
                                    "3": "45 ",
                                    "4": "24 "
                                },
                                {
                                    "0": "B00029",
                                    "1": "COMMUNITY CAR SVC CORP",
                                    "2": "2015-01-01",
                                    "3": "731 ",
                                    "4": "36 "
                                },
                                {
                                    "0": "B00053",
                                    "1": "CHARGE AND RIDE INC",
                                    "2": "2015-01-01",
                                    "3": "10 ",
                                    "4": "9 "
                                },
                                {
                                    "0": "B00095",
                                    "1": "LIBERTY CAR SERVICE INC.",
                                    "2": "2015-01-01",
                                    "3": "814 ",
                                    "4": "62 "
                                },
                                {
                                    "0": "B00221",
                                    "1": "PROFESSIONAL CAR SERVICE INC",
                                    "2": "2015-01-01",
                                    "3": "220 ",
                                    "4": "46 "
                                },
                                {
                                    "0": "B00227",
                                    "1": "PARK WEST EXEC. SERVICES, INC.",
                                    "2": "2015-01-01",
                                    "3": "36 ",
                                    "4": "28 "
                                },
                                {
                                    "0": "B00248",
                                    "1": "YELLOWSTONE TRANSPORTATION INC.",
                                    "2": "2015-01-01",
                                    "3": " 1,137 ",
                                    "4": "106 "
                                },
                                {
                                    "0": "B00254",
                                    "1": "XYZ TWO WAY RADIO",
                                    "2": "2015-01-01",
                                    "3": "236 ",
                                    "4": "103 "
                                },
                                {
                                    "0": "B00280",
                                    "1": "FLEET RADIO DISPATCH CORP.",
                                    "2": "2015-01-01",
                                    "3": "47 ",
                                    "4": "29 "
                                }
                            ]
                        },
                        "text/html": [
                            "<table>",
                            "<tr><th>Base_Number</th><th>Base_Name</th><th>Pick_Up_Date</th><th>Number_of_Trips</th><th>Number_of_Vehicles</th></tr>",
                            "<tr><td>B00013</td><td>LOVE CORP CAR INC</td><td>2015-01-01</td><td>26 </td><td>17 </td></tr>",
                            "<tr><td>B00014</td><td>NY ONE CORP CAR INC</td><td>2015-01-01</td><td>45 </td><td>24 </td></tr>",
                            "<tr><td>B00029</td><td>COMMUNITY CAR SVC CORP</td><td>2015-01-01</td><td>731 </td><td>36 </td></tr>",
                            "<tr><td>B00053</td><td>CHARGE AND RIDE INC</td><td>2015-01-01</td><td>10 </td><td>9 </td></tr>",
                            "<tr><td>B00095</td><td>LIBERTY CAR SERVICE INC.</td><td>2015-01-01</td><td>814 </td><td>62 </td></tr>",
                            "<tr><td>B00221</td><td>PROFESSIONAL CAR SERVICE INC</td><td>2015-01-01</td><td>220 </td><td>46 </td></tr>",
                            "<tr><td>B00227</td><td>PARK WEST EXEC. SERVICES, INC.</td><td>2015-01-01</td><td>36 </td><td>28 </td></tr>",
                            "<tr><td>B00248</td><td>YELLOWSTONE TRANSPORTATION INC.</td><td>2015-01-01</td><td> 1,137 </td><td>106 </td></tr>",
                            "<tr><td>B00254</td><td>XYZ TWO WAY RADIO</td><td>2015-01-01</td><td>236 </td><td>103 </td></tr>",
                            "<tr><td>B00280</td><td>FLEET RADIO DISPATCH CORP.</td><td>2015-01-01</td><td>47 </td><td>29 </td></tr>",
                            "</table>"
                        ]
                    }
                }
            ],
            "execution_count": 25
        },
        {
            "cell_type": "code",
            "source": [
                "SELECT top 10 RIGHT(Base_Name, 3 ) AS last3char\r\n",
                "FROM RideShareDB.dbo.other_FHV_services_jan_aug_2015;\r\n",
                ""
            ],
            "metadata": {
                "language": "sql",
                "azdata_cell_guid": "d908fdf0-23cb-406c-861e-9890195a7d34"
            },
            "outputs": [
                {
                    "output_type": "display_data",
                    "data": {
                        "text/html": "(10 rows affected)"
                    },
                    "metadata": {}
                },
                {
                    "output_type": "display_data",
                    "data": {
                        "text/html": "Total execution time: 00:00:00.056"
                    },
                    "metadata": {}
                },
                {
                    "output_type": "execute_result",
                    "metadata": {},
                    "execution_count": 19,
                    "data": {
                        "application/vnd.dataresource+json": {
                            "schema": {
                                "fields": [
                                    {
                                        "name": "last3char"
                                    }
                                ]
                            },
                            "data": [
                                {
                                    "0": "INC"
                                },
                                {
                                    "0": "INC"
                                },
                                {
                                    "0": "ORP"
                                },
                                {
                                    "0": "INC"
                                },
                                {
                                    "0": "NC."
                                },
                                {
                                    "0": "INC"
                                },
                                {
                                    "0": "NC."
                                },
                                {
                                    "0": "NC."
                                },
                                {
                                    "0": "DIO"
                                },
                                {
                                    "0": "RP."
                                }
                            ]
                        },
                        "text/html": [
                            "<table>",
                            "<tr><th>last3char</th></tr>",
                            "<tr><td>INC</td></tr>",
                            "<tr><td>INC</td></tr>",
                            "<tr><td>ORP</td></tr>",
                            "<tr><td>INC</td></tr>",
                            "<tr><td>NC.</td></tr>",
                            "<tr><td>INC</td></tr>",
                            "<tr><td>NC.</td></tr>",
                            "<tr><td>NC.</td></tr>",
                            "<tr><td>DIO</td></tr>",
                            "<tr><td>RP.</td></tr>",
                            "</table>"
                        ]
                    }
                }
            ],
            "execution_count": 19
        },
        {
            "cell_type": "markdown",
            "source": [
                "The number of trips and the number of pickups are both stored as strings in `other-FHV-services-jan-july15`. This is because the data provided included spaces in some of the numbers. Write a query that returns the location of spaces in both of these columns.\n",
                "\n",
                "  \n",
                "\n",
                "I am not sure what is being asked here. I trimmed the whitespaces in the top 10."
            ],
            "metadata": {
                "azdata_cell_guid": "6c206898-77f4-4357-8d17-33192980f45d"
            },
            "attachments": {}
        },
        {
            "cell_type": "code",
            "source": [
                "SELECT top 10 CHARINDEX('', 'Pick_Up_Date','Number_of_Trips')\r\n",
                "FROM RideShareDB.dbo.other_FHV_services_jan_aug_2015\r\n",
                ""
            ],
            "metadata": {
                "azdata_cell_guid": "3c810c3d-4e66-447b-8326-19e59d8a1b88",
                "language": "sql"
            },
            "outputs": [
                {
                    "output_type": "error",
                    "evalue": "Msg 8116, Level 16, State 1, Line 1\r\nArgument data type varchar is invalid for argument 3 of charindex function.",
                    "ename": "",
                    "traceback": []
                },
                {
                    "output_type": "display_data",
                    "data": {
                        "text/html": "Total execution time: 00:00:00.045"
                    },
                    "metadata": {}
                }
            ],
            "execution_count": 26
        },
        {
            "cell_type": "code",
            "source": [
                "SELECT top 10 TRIM(' ' FROM Number_of_Trips) AS Trip_Numbers\r\n",
                "FROM RideShareDB.dbo.other_FHV_services_jan_aug_2015;"
            ],
            "metadata": {
                "language": "sql",
                "azdata_cell_guid": "3ff2ce4f-d6f5-4228-8c98-95c165f1baec"
            },
            "outputs": [
                {
                    "output_type": "display_data",
                    "data": {
                        "text/html": "(10 rows affected)"
                    },
                    "metadata": {}
                },
                {
                    "output_type": "display_data",
                    "data": {
                        "text/html": "Total execution time: 00:00:00.049"
                    },
                    "metadata": {}
                },
                {
                    "output_type": "execute_result",
                    "metadata": {},
                    "execution_count": 32,
                    "data": {
                        "application/vnd.dataresource+json": {
                            "schema": {
                                "fields": [
                                    {
                                        "name": "Trip_Numbers"
                                    }
                                ]
                            },
                            "data": [
                                {
                                    "0": "26"
                                },
                                {
                                    "0": "45"
                                },
                                {
                                    "0": "731"
                                },
                                {
                                    "0": "10"
                                },
                                {
                                    "0": "814"
                                },
                                {
                                    "0": "220"
                                },
                                {
                                    "0": "36"
                                },
                                {
                                    "0": "1,137"
                                },
                                {
                                    "0": "236"
                                },
                                {
                                    "0": "47"
                                }
                            ]
                        },
                        "text/html": [
                            "<table>",
                            "<tr><th>Trip_Numbers</th></tr>",
                            "<tr><td>26</td></tr>",
                            "<tr><td>45</td></tr>",
                            "<tr><td>731</td></tr>",
                            "<tr><td>10</td></tr>",
                            "<tr><td>814</td></tr>",
                            "<tr><td>220</td></tr>",
                            "<tr><td>36</td></tr>",
                            "<tr><td>1,137</td></tr>",
                            "<tr><td>236</td></tr>",
                            "<tr><td>47</td></tr>",
                            "</table>"
                        ]
                    }
                }
            ],
            "execution_count": 32
        },
        {
            "cell_type": "markdown",
            "source": [
                "## Date Functions\n",
                "\n",
                "For ``other-FHV-services-jan-july15``, display the name of month of the pickup date and order in descending order. Is the result of this query what you expected?"
            ],
            "metadata": {
                "azdata_cell_guid": "b138ac53-9fff-4320-9ff1-08717873f2ee"
            },
            "attachments": {}
        },
        {
            "cell_type": "code",
            "source": [
                "SELECT top 10 DATENAME(MONTH, '2015-01-01') AS Pick_Up_Date_Month\r\n",
                "FROM RideShareDB.dbo.other_FHV_services_jan_aug_2015\r\n",
                "Order BY Pick_Up_Date DESC;"
            ],
            "metadata": {
                "azdata_cell_guid": "8abd404c-a360-4b10-8d6b-8b34ef763bc7",
                "tags": [],
                "language": "sql"
            },
            "outputs": [
                {
                    "output_type": "display_data",
                    "data": {
                        "text/html": "(10 rows affected)"
                    },
                    "metadata": {}
                },
                {
                    "output_type": "display_data",
                    "data": {
                        "text/html": "Total execution time: 00:00:00.114"
                    },
                    "metadata": {}
                },
                {
                    "output_type": "execute_result",
                    "metadata": {},
                    "execution_count": 40,
                    "data": {
                        "application/vnd.dataresource+json": {
                            "schema": {
                                "fields": [
                                    {
                                        "name": "Pick_Up_Date_Month"
                                    }
                                ]
                            },
                            "data": [
                                {
                                    "0": "January"
                                },
                                {
                                    "0": "January"
                                },
                                {
                                    "0": "January"
                                },
                                {
                                    "0": "January"
                                },
                                {
                                    "0": "January"
                                },
                                {
                                    "0": "January"
                                },
                                {
                                    "0": "January"
                                },
                                {
                                    "0": "January"
                                },
                                {
                                    "0": "January"
                                },
                                {
                                    "0": "January"
                                }
                            ]
                        },
                        "text/html": [
                            "<table>",
                            "<tr><th>Pick_Up_Date_Month</th></tr>",
                            "<tr><td>January</td></tr>",
                            "<tr><td>January</td></tr>",
                            "<tr><td>January</td></tr>",
                            "<tr><td>January</td></tr>",
                            "<tr><td>January</td></tr>",
                            "<tr><td>January</td></tr>",
                            "<tr><td>January</td></tr>",
                            "<tr><td>January</td></tr>",
                            "<tr><td>January</td></tr>",
                            "<tr><td>January</td></tr>",
                            "</table>"
                        ]
                    }
                }
            ],
            "execution_count": 40
        },
        {
            "cell_type": "markdown",
            "source": [
                "Using `other-FHV-services-jan-july15`, write a query that returns the day number of the pickup date and month name and orders it in ascending order by day number."
            ],
            "metadata": {
                "azdata_cell_guid": "aa6bf15c-b847-45f0-ba0d-79c7636c4578"
            },
            "attachments": {}
        },
        {
            "cell_type": "code",
            "source": [
                "SELECT top 10 DATENAME(DAY, '2015-01-01') AS Pickup_day, DATENAME(MONTH, '2015-01-01') AS Pickup_month\r\n",
                "FROM RideShareDB.dbo.other_FHV_services_jan_aug_2015\r\n",
                "Order BY Pick_Up_Date ASC;"
            ],
            "metadata": {
                "azdata_cell_guid": "46dcd617-8dcf-4c15-b5fa-c0ec04f2bf29",
                "language": "sql"
            },
            "outputs": [
                {
                    "output_type": "display_data",
                    "data": {
                        "text/html": "(10 rows affected)"
                    },
                    "metadata": {}
                },
                {
                    "output_type": "display_data",
                    "data": {
                        "text/html": "Total execution time: 00:00:00.048"
                    },
                    "metadata": {}
                },
                {
                    "output_type": "execute_result",
                    "metadata": {},
                    "execution_count": 42,
                    "data": {
                        "application/vnd.dataresource+json": {
                            "schema": {
                                "fields": [
                                    {
                                        "name": "Pickup_day"
                                    },
                                    {
                                        "name": "Pickup_month"
                                    }
                                ]
                            },
                            "data": [
                                {
                                    "0": "1",
                                    "1": "January"
                                },
                                {
                                    "0": "1",
                                    "1": "January"
                                },
                                {
                                    "0": "1",
                                    "1": "January"
                                },
                                {
                                    "0": "1",
                                    "1": "January"
                                },
                                {
                                    "0": "1",
                                    "1": "January"
                                },
                                {
                                    "0": "1",
                                    "1": "January"
                                },
                                {
                                    "0": "1",
                                    "1": "January"
                                },
                                {
                                    "0": "1",
                                    "1": "January"
                                },
                                {
                                    "0": "1",
                                    "1": "January"
                                },
                                {
                                    "0": "1",
                                    "1": "January"
                                }
                            ]
                        },
                        "text/html": [
                            "<table>",
                            "<tr><th>Pickup_day</th><th>Pickup_month</th></tr>",
                            "<tr><td>1</td><td>January</td></tr>",
                            "<tr><td>1</td><td>January</td></tr>",
                            "<tr><td>1</td><td>January</td></tr>",
                            "<tr><td>1</td><td>January</td></tr>",
                            "<tr><td>1</td><td>January</td></tr>",
                            "<tr><td>1</td><td>January</td></tr>",
                            "<tr><td>1</td><td>January</td></tr>",
                            "<tr><td>1</td><td>January</td></tr>",
                            "<tr><td>1</td><td>January</td></tr>",
                            "<tr><td>1</td><td>January</td></tr>",
                            "</table>"
                        ]
                    }
                }
            ],
            "execution_count": 42
        },
        {
            "cell_type": "markdown",
            "source": [
                "## Aggregate Functions\n",
                "\n",
                "Write a query that returns the most easterly Lyft pickup.\n",
                "\n",
                "\\-73.742269"
            ],
            "metadata": {
                "azdata_cell_guid": "348342a2-6039-43b1-8461-841288deee94"
            },
            "attachments": {}
        },
        {
            "cell_type": "code",
            "source": [
                "SELECT top 10 *\r\n",
                "From lyft"
            ],
            "metadata": {
                "azdata_cell_guid": "f2cb1b41-c92a-47ea-bd77-7bafd78af1d4",
                "tags": [
                    "hide_input"
                ],
                "language": "sql"
            },
            "outputs": [
                {
                    "output_type": "display_data",
                    "data": {
                        "text/html": "(10 rows affected)"
                    },
                    "metadata": {}
                },
                {
                    "output_type": "display_data",
                    "data": {
                        "text/html": "Total execution time: 00:00:00.075"
                    },
                    "metadata": {}
                },
                {
                    "output_type": "execute_result",
                    "metadata": {},
                    "execution_count": 46,
                    "data": {
                        "application/vnd.dataresource+json": {
                            "schema": {
                                "fields": [
                                    {
                                        "name": "time_of_trip"
                                    },
                                    {
                                        "name": "start_lat"
                                    },
                                    {
                                        "name": "start_lng"
                                    }
                                ]
                            },
                            "data": [
                                {
                                    "0": "2014-09-04 09:51:00.0000000",
                                    "1": "40.64705",
                                    "2": "-73.77988"
                                },
                                {
                                    "0": "2014-08-27 21:13:00.0000000",
                                    "1": "40.74916",
                                    "2": "-73.98373"
                                },
                                {
                                    "0": "2014-09-04 14:16:00.0000000",
                                    "1": "40.64065",
                                    "2": "-73.97594"
                                },
                                {
                                    "0": "2014-09-04 16:08:00.0000000",
                                    "1": "40.75002",
                                    "2": "-73.99514"
                                },
                                {
                                    "0": "2014-08-28 02:41:00.0000000",
                                    "1": "40.76715",
                                    "2": "-73.98636"
                                },
                                {
                                    "0": "2014-09-13 03:57:00.0000000",
                                    "1": "40.70707",
                                    "2": "-74.01211"
                                },
                                {
                                    "0": "2014-09-11 23:13:00.0000000",
                                    "1": "40.72953",
                                    "2": "-73.97799"
                                },
                                {
                                    "0": "2014-08-27 22:56:00.0000000",
                                    "1": "40.76689",
                                    "2": "-73.95631"
                                },
                                {
                                    "0": "2014-09-10 17:48:00.0000000",
                                    "1": "40.82332",
                                    "2": "-73.86235"
                                },
                                {
                                    "0": "2014-09-12 23:24:00.0000000",
                                    "1": "40.72188",
                                    "2": "-73.99732"
                                }
                            ]
                        },
                        "text/html": [
                            "<table>",
                            "<tr><th>time_of_trip</th><th>start_lat</th><th>start_lng</th></tr>",
                            "<tr><td>2014-09-04 09:51:00.0000000</td><td>40.64705</td><td>-73.77988</td></tr>",
                            "<tr><td>2014-08-27 21:13:00.0000000</td><td>40.74916</td><td>-73.98373</td></tr>",
                            "<tr><td>2014-09-04 14:16:00.0000000</td><td>40.64065</td><td>-73.97594</td></tr>",
                            "<tr><td>2014-09-04 16:08:00.0000000</td><td>40.75002</td><td>-73.99514</td></tr>",
                            "<tr><td>2014-08-28 02:41:00.0000000</td><td>40.76715</td><td>-73.98636</td></tr>",
                            "<tr><td>2014-09-13 03:57:00.0000000</td><td>40.70707</td><td>-74.01211</td></tr>",
                            "<tr><td>2014-09-11 23:13:00.0000000</td><td>40.72953</td><td>-73.97799</td></tr>",
                            "<tr><td>2014-08-27 22:56:00.0000000</td><td>40.76689</td><td>-73.95631</td></tr>",
                            "<tr><td>2014-09-10 17:48:00.0000000</td><td>40.82332</td><td>-73.86235</td></tr>",
                            "<tr><td>2014-09-12 23:24:00.0000000</td><td>40.72188</td><td>-73.99732</td></tr>",
                            "</table>"
                        ]
                    }
                }
            ],
            "execution_count": 46
        },
        {
            "cell_type": "code",
            "source": [
                "SELECT top 10 *\r\n",
                "FROM lyft\r\n",
                "Order BY start_lng Asc;"
            ],
            "metadata": {
                "language": "sql",
                "azdata_cell_guid": "723255b9-ce52-4868-9483-d91289c3ecc0",
                "tags": [
                    "hide_input"
                ]
            },
            "outputs": [
                {
                    "output_type": "display_data",
                    "data": {
                        "text/html": "(10 rows affected)"
                    },
                    "metadata": {}
                },
                {
                    "output_type": "display_data",
                    "data": {
                        "text/html": "Total execution time: 00:00:00.193"
                    },
                    "metadata": {}
                },
                {
                    "output_type": "execute_result",
                    "metadata": {},
                    "execution_count": 52,
                    "data": {
                        "application/vnd.dataresource+json": {
                            "schema": {
                                "fields": [
                                    {
                                        "name": "time_of_trip"
                                    },
                                    {
                                        "name": "start_lat"
                                    },
                                    {
                                        "name": "start_lng"
                                    }
                                ]
                            },
                            "data": [
                                {
                                    "0": "2014-07-26 04:21:00.0000000",
                                    "1": "NULL",
                                    "2": "NULL"
                                },
                                {
                                    "0": "2014-08-14 02:23:00.0000000",
                                    "1": "40.52785",
                                    "2": "-74.22689"
                                },
                                {
                                    "0": "2014-08-11 00:00:00.0000000",
                                    "1": "40.53042",
                                    "2": "-74.20857"
                                },
                                {
                                    "0": "2014-08-13 06:18:00.0000000",
                                    "1": "40.59229",
                                    "2": "-74.19261"
                                },
                                {
                                    "0": "2014-08-15 23:41:00.0000000",
                                    "1": "40.54979",
                                    "2": "-74.19208"
                                },
                                {
                                    "0": "2014-08-18 20:58:00.0000000",
                                    "1": "40.58654",
                                    "2": "-74.19087"
                                },
                                {
                                    "0": "2014-08-12 02:40:00.0000000",
                                    "1": "40.59998",
                                    "2": "-74.18974"
                                },
                                {
                                    "0": "2014-09-13 15:40:00.0000000",
                                    "1": "40.59272",
                                    "2": "-74.18909"
                                },
                                {
                                    "0": "2014-09-11 19:57:00.0000000",
                                    "1": "40.56209",
                                    "2": "-74.18694"
                                },
                                {
                                    "0": "2014-09-06 19:12:00.0000000",
                                    "1": "40.56238",
                                    "2": "-74.18683"
                                }
                            ]
                        },
                        "text/html": [
                            "<table>",
                            "<tr><th>time_of_trip</th><th>start_lat</th><th>start_lng</th></tr>",
                            "<tr><td>2014-07-26 04:21:00.0000000</td><td>NULL</td><td>NULL</td></tr>",
                            "<tr><td>2014-08-14 02:23:00.0000000</td><td>40.52785</td><td>-74.22689</td></tr>",
                            "<tr><td>2014-08-11 00:00:00.0000000</td><td>40.53042</td><td>-74.20857</td></tr>",
                            "<tr><td>2014-08-13 06:18:00.0000000</td><td>40.59229</td><td>-74.19261</td></tr>",
                            "<tr><td>2014-08-15 23:41:00.0000000</td><td>40.54979</td><td>-74.19208</td></tr>",
                            "<tr><td>2014-08-18 20:58:00.0000000</td><td>40.58654</td><td>-74.19087</td></tr>",
                            "<tr><td>2014-08-12 02:40:00.0000000</td><td>40.59998</td><td>-74.18974</td></tr>",
                            "<tr><td>2014-09-13 15:40:00.0000000</td><td>40.59272</td><td>-74.18909</td></tr>",
                            "<tr><td>2014-09-11 19:57:00.0000000</td><td>40.56209</td><td>-74.18694</td></tr>",
                            "<tr><td>2014-09-06 19:12:00.0000000</td><td>40.56238</td><td>-74.18683</td></tr>",
                            "</table>"
                        ]
                    }
                }
            ],
            "execution_count": 52
        },
        {
            "cell_type": "markdown",
            "source": [
                "Write a query the returns the most northerly Lyft pickup.\n",
                "\n",
                "40.93562"
            ],
            "metadata": {
                "azdata_cell_guid": "bd589862-044d-4909-8565-8aa4771d9c00"
            },
            "attachments": {}
        },
        {
            "cell_type": "code",
            "source": [
                "SELECT top 10 *\r\n",
                "FROM lyft\r\n",
                "ORDER BY start_lat DESC;"
            ],
            "metadata": {
                "azdata_cell_guid": "189b7c25-0dfa-4ca0-a683-d402b3875abd",
                "language": "sql"
            },
            "outputs": [
                {
                    "output_type": "display_data",
                    "data": {
                        "text/html": "(10 rows affected)"
                    },
                    "metadata": {}
                },
                {
                    "output_type": "display_data",
                    "data": {
                        "text/html": "Total execution time: 00:00:00.156"
                    },
                    "metadata": {}
                },
                {
                    "output_type": "execute_result",
                    "metadata": {},
                    "execution_count": 51,
                    "data": {
                        "application/vnd.dataresource+json": {
                            "schema": {
                                "fields": [
                                    {
                                        "name": "time_of_trip"
                                    },
                                    {
                                        "name": "start_lat"
                                    },
                                    {
                                        "name": "start_lng"
                                    }
                                ]
                            },
                            "data": [
                                {
                                    "0": "2014-08-23 06:06:00.0000000",
                                    "1": "40.93562",
                                    "2": "-73.89887"
                                },
                                {
                                    "0": "2014-08-26 02:37:00.0000000",
                                    "1": "40.9354",
                                    "2": "-73.88666"
                                },
                                {
                                    "0": "2014-09-07 21:39:00.0000000",
                                    "1": "40.9352",
                                    "2": "-73.89987"
                                },
                                {
                                    "0": "2014-09-11 01:21:00.0000000",
                                    "1": "40.93484",
                                    "2": "-73.88917"
                                },
                                {
                                    "0": "2014-09-07 00:30:00.0000000",
                                    "1": "40.93468",
                                    "2": "-73.90152"
                                },
                                {
                                    "0": "2014-09-10 00:22:00.0000000",
                                    "1": "40.934",
                                    "2": "-73.89967"
                                },
                                {
                                    "0": "2014-08-18 21:35:00.0000000",
                                    "1": "40.933840000000004",
                                    "2": "-73.903"
                                },
                                {
                                    "0": "2014-08-30 21:42:00.0000000",
                                    "1": "40.93014",
                                    "2": "-73.8552"
                                },
                                {
                                    "0": "2014-09-01 19:28:00.0000000",
                                    "1": "40.9295",
                                    "2": "-73.90045"
                                },
                                {
                                    "0": "2014-08-13 23:02:00.0000000",
                                    "1": "40.92822",
                                    "2": "-73.85665"
                                }
                            ]
                        },
                        "text/html": [
                            "<table>",
                            "<tr><th>time_of_trip</th><th>start_lat</th><th>start_lng</th></tr>",
                            "<tr><td>2014-08-23 06:06:00.0000000</td><td>40.93562</td><td>-73.89887</td></tr>",
                            "<tr><td>2014-08-26 02:37:00.0000000</td><td>40.9354</td><td>-73.88666</td></tr>",
                            "<tr><td>2014-09-07 21:39:00.0000000</td><td>40.9352</td><td>-73.89987</td></tr>",
                            "<tr><td>2014-09-11 01:21:00.0000000</td><td>40.93484</td><td>-73.88917</td></tr>",
                            "<tr><td>2014-09-07 00:30:00.0000000</td><td>40.93468</td><td>-73.90152</td></tr>",
                            "<tr><td>2014-09-10 00:22:00.0000000</td><td>40.934</td><td>-73.89967</td></tr>",
                            "<tr><td>2014-08-18 21:35:00.0000000</td><td>40.933840000000004</td><td>-73.903</td></tr>",
                            "<tr><td>2014-08-30 21:42:00.0000000</td><td>40.93014</td><td>-73.8552</td></tr>",
                            "<tr><td>2014-09-01 19:28:00.0000000</td><td>40.9295</td><td>-73.90045</td></tr>",
                            "<tr><td>2014-08-13 23:02:00.0000000</td><td>40.92822</td><td>-73.85665</td></tr>",
                            "</table>"
                        ]
                    }
                }
            ],
            "execution_count": 51
        },
        {
            "cell_type": "markdown",
            "source": [
                "Using ``other-FHV-services-jan-july15``, write a query that connects the the base number and the base name in a string that uses the following format: base\\_number: base\\_name."
            ],
            "metadata": {
                "azdata_cell_guid": "674f8758-14bf-4712-b029-0ad0447617fb"
            },
            "attachments": {}
        },
        {
            "cell_type": "code",
            "source": [
                "select TOP 1 CONCAT('Base_Number',':', 'Base_Name' ) as base_name_and_number\r\n",
                "FROM RideShareDB.dbo.other_FHV_services_jan_aug_2015"
            ],
            "metadata": {
                "azdata_cell_guid": "f6f4b247-63c0-4997-8769-204e37a55c08",
                "language": "sql"
            },
            "outputs": [
{
    "output_type": "display_data",
    "data": {
        "text/html": "(1 row affected)"
    },
    "metadata": {}
}, {
    "output_type": "display_data",
    "data": {
        "text/html": "Total execution time: 00:00:00.073"
    },
    "metadata": {}
}, {
    "output_type": "execute_result",
    "metadata": {},
    "execution_count": 58,
    "data": {
        "application/vnd.dataresource+json": {
            "schema": {
                "fields": [
                    {
                        "name": "base_name_and_number"
                    }
                ]
            },
            "data": [
                {
                    "0": "Base_Number:Base_Name"
                }
            ]
        },
        "text/html": [
            "<table>",
            "<tr><th>base_name_and_number</th></tr>",
            "<tr><td>Base_Number:Base_Name</td></tr>",
            "</table>"
        ]
    }
}
],
            "execution_count": 58
        }
    ]
}